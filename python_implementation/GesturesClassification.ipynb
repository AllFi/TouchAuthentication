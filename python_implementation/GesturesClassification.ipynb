{
 "cells": [
  {
   "cell_type": "code",
   "execution_count": 1,
   "metadata": {
    "collapsed": true
   },
   "outputs": [],
   "source": [
    "import pandas as pd"
   ]
  },
  {
   "cell_type": "markdown",
   "metadata": {},
   "source": [
    "# Загружаем датасетыс сырыми данными"
   ]
  },
  {
   "cell_type": "markdown",
   "metadata": {},
   "source": [
    "Исходные датасеты должны иметь столбцы MotionNumber, TouchNumer, XCoordinate, YCoordinate, Size, Time, Type и представлять собой csv файл с ; в качестве разделителя.\n",
    "Датасет можно получить с помощью приложения TouchRecognitor:\n",
    "https://github.com/AllFi/TouchRecognitor"
   ]
  },
  {
   "cell_type": "code",
   "execution_count": 2,
   "metadata": {
    "collapsed": false
   },
   "outputs": [],
   "source": [
    "data_mine = pd.read_csv('datasets/ALEKSANDR_FILIPPOV.csv', index_col = None, sep=\";\")\n",
    "data_mine2 = pd.read_csv('datasets/ALEKSANDR_IVANOVICh.csv', index_col = None, sep=\";\")\n",
    "data_mine3 = pd.read_csv('datasets/FILIPPOV_ALEKSANDR_SKROLLY.csv', index_col = None, sep=\";\")\n",
    "data_mine4 = pd.read_csv('datasets/SKROLLY100.csv', index_col = None, sep=\";\")\n",
    "data_mp = pd.read_csv('datasets/MARIYa_PRESNIKOVA.csv', index_col = None, sep=\";\")\n",
    "data_ae = pd.read_csv('datasets/ANTONOV_EVGENIJ.csv', index_col = None, sep=\";\")\n",
    "data_dp = pd.read_csv('datasets/DAR_Ya_PODENKOVA.csv', index_col = None, sep=\";\")\n",
    "data_ka = pd.read_csv('datasets/KURNEV_ALEKSEJ.csv', index_col = None, sep=\";\")\n",
    "data_lh = pd.read_csv('datasets/LILIYa_KhASANOVA.csv', index_col = None, sep=\";\")"
   ]
  },
  {
   "cell_type": "markdown",
   "metadata": {},
   "source": [
    "# Создаем новый датафрейм для признаков"
   ]
  },
  {
   "cell_type": "markdown",
   "metadata": {},
   "source": [
    "В этом модуле мы непосредственно формируем датасет с признаками. Пока оставим такую же структуру. Чтобы добавить новый признак\n",
    "необходимо написать функцию типа add_feature_feature_name и вызвать её из функции ниже."
   ]
  },
  {
   "cell_type": "code",
   "execution_count": 3,
   "metadata": {
    "collapsed": true
   },
   "outputs": [],
   "source": [
    "def create_features_vec_num(data):\n",
    "    df = pd.DataFrame(index=range(data.iloc[data.shape[0] - 1][0] + 1), columns=['MotionId','Type'])\n",
    "    for i in range(data.iloc[data.shape[0] - 1][0]):\n",
    "        try:\n",
    "            dat = data[(data.MotionNumber == i )]\n",
    "            df.set_value(i,1, dat.get_value(0,6,takeable=True), takeable=True)\n",
    "            df.set_value(i,0, i, takeable=True)\n",
    "        except:\n",
    "            continue\n",
    "\n",
    "    df = add_feature_vec(df, data)\n",
    "    df = add_feature_time(df,data)\n",
    "    df = add_feature_distance(df,data)\n",
    "    df = add_feature_avrg_speed(df,data)\n",
    "    df = add_feature_avrg_size(df,data)\n",
    "    df = df.fillna(method='pad')\n",
    "    return df"
   ]
  },
  {
   "cell_type": "code",
   "execution_count": 4,
   "metadata": {
    "collapsed": true
   },
   "outputs": [],
   "source": [
    "def add_feature_avrg_size(df_features, data):\n",
    "    df_features.insert(df_features.shape[1],'AvrgSize', None)\n",
    "    for i in range(df_features.shape[0]):\n",
    "        sum_size = 0 \n",
    "        dataMN = data[(data.MotionNumber == i )]\n",
    "        for j in range(dataMN.shape[0]):\n",
    "            try:\n",
    "                sum_size += dataMN[[\"Size\"]].get_value(j,0, takeable=True)\n",
    "            except:\n",
    "                continue\n",
    "        try:\n",
    "            avrg_size = sum_size / dataMN.shape[0]\n",
    "            \n",
    "        except:\n",
    "            avrg_size = None\n",
    "        df_features.set_value(i,df_features.shape[1] - 1,avrg_size, takeable=True)\n",
    "    df_features = df_features.fillna(method=\"pad\")\n",
    "    return df_features"
   ]
  },
  {
   "cell_type": "code",
   "execution_count": 5,
   "metadata": {
    "collapsed": true
   },
   "outputs": [],
   "source": [
    "def add_feature_avrg_speed(df_features, data):\n",
    "    df_features.insert(df_features.shape[1],'AvrgSpeed', None)\n",
    "    for i in range(df_features.shape[0]):\n",
    "        try:\n",
    "            avrg_speed = df_features[[\"Distance\"]].get_value(i,0, takeable=True) / df_features[[\"Time\"]].get_value(i,0, takeable=True) \n",
    "        except:\n",
    "            continue\n",
    "        df_features.set_value(i,df_features.shape[1] - 1,avrg_speed, takeable=True)\n",
    "    df_features = df_features.fillna(method=\"pad\")\n",
    "    return df_features"
   ]
  },
  {
   "cell_type": "code",
   "execution_count": 6,
   "metadata": {
    "collapsed": true
   },
   "outputs": [],
   "source": [
    "def add_feature_distance(df_features, data):\n",
    "    df_features.insert(df_features.shape[1],'Distance', None)\n",
    "    for i in range(data.iloc[data.shape[0] - 1][0]):\n",
    "        dataMN = data[(data.MotionNumber == i )]\n",
    "        dat = dataMN[(dataMN.TouchNumber == 0) ]\n",
    "        dat2 = dataMN[(dataMN.TouchNumber == 1)]\n",
    "        distance1 = 0\n",
    "        distance2 = 0\n",
    "        for j in range(dat.shape[0]-1):\n",
    "            try:\n",
    "                x_disp = dat[[\"XCoordinate\"]].get_value(j+1,0, takeable=True) - dat[[\"XCoordinate\"]].get_value(j,0, takeable=True)\n",
    "                y_disp = dat[[\"YCoordinate\"]].get_value(j+1,0, takeable=True) - dat[[\"YCoordinate\"]].get_value(j,0, takeable=True)\n",
    "                distance1 += (x_disp**2 + y_disp**2)**(1/2)\n",
    "            except:\n",
    "                continue\n",
    "            if dat2.shape[0] != 0:\n",
    "                try:\n",
    "                    x_disp = dat2[[\"XCoordinate\"]].get_value(j+1,0, takeable=True) - dat2[[\"XCoordinate\"]].get_value(j,0, takeable=True)\n",
    "                    y_disp = dat2[[\"YCoordinate\"]].get_value(j+1,0, takeable=True) - dat2[[\"YCoordinate\"]].get_value(j,0, takeable=True)\n",
    "                    distance2 += (x_disp**2 + y_disp**2)**(1/2)\n",
    "                except:\n",
    "                    continue\n",
    "            distance = distance1 + distance2\n",
    "            df_features.set_value(i,df_features.shape[1] - 1,distance, takeable=True)\n",
    "    df_features = df_features.fillna(method=\"pad\")\n",
    "    return df_features"
   ]
  },
  {
   "cell_type": "code",
   "execution_count": 7,
   "metadata": {
    "collapsed": true
   },
   "outputs": [],
   "source": [
    "def add_feature_time(df_features, data):\n",
    "    df_features.insert(df_features.shape[1],'Time', None)\n",
    "    for i in range(data.iloc[data.shape[0] - 1][0]):\n",
    "        dataMN = data[(data.MotionNumber == i )]\n",
    "        time = dataMN.Time.max() - dataMN.Time.min()\n",
    "        df_features.set_value(i,df_features.shape[1] - 1,time, takeable=True)\n",
    "    df_features = df_features.fillna(method=\"pad\")\n",
    "    return df_features"
   ]
  },
  {
   "cell_type": "code",
   "execution_count": 8,
   "metadata": {
    "collapsed": true
   },
   "outputs": [],
   "source": [
    "def add_feature_vec(df_features, data):\n",
    "    df_features.insert(df_features.shape[1],'XVec', None)\n",
    "    df_features.insert(df_features.shape[1],'YVec', None)\n",
    "    \n",
    "    for i in range(data.iloc[data.shape[0] - 1][0]):\n",
    "        #print(data[(data.MotionNumber == i )][(data.Time == data.Time.max())]\n",
    "        dataMN = data[(data.MotionNumber == i )]\n",
    "        dat = dataMN[(dataMN.TouchNumber == 0) ]\n",
    "        dat2 = dataMN[(dataMN.TouchNumber == 1)]\n",
    "        try:\n",
    "            XVec = dat[dat.Time==dat.Time.max()][[\"XCoordinate\"]].get_value(0,0, takeable=True) - dat[dat.Time==dat.Time.min()][[\"XCoordinate\"]].get_value(0,0, takeable=True)\n",
    "            YVec = dat[dat.Time==dat.Time.max()][[\"YCoordinate\"]].get_value(0,0, takeable=True) - dat[dat.Time==dat.Time.min()][[\"YCoordinate\"]].get_value(0,0, takeable=True)\n",
    "        except:\n",
    "            continue\n",
    "        if dat2.shape[0] != 0:\n",
    "            XVec2 = dat2[dat2.Time==dat2.Time.max()][[\"XCoordinate\"]].get_value(0,0, takeable=True) - dat2[dat2.Time==dat2.Time.min()][[\"XCoordinate\"]].get_value(0,0, takeable=True)\n",
    "            YVec2 = dat2[dat2.Time==dat2.Time.max()][[\"YCoordinate\"]].get_value(0,0, takeable=True) - dat2[dat2.Time==dat2.Time.min()][[\"YCoordinate\"]].get_value(0,0, takeable=True)\n",
    "            if dat2.YCoordinate.max() > dat.YCoordinate.max(): \n",
    "                XVec = XVec2 - XVec\n",
    "                YVec = YVec2 - YVec\n",
    "            else:\n",
    "                XVec = XVec - XVec2\n",
    "                YVec = YVec - YVec2\n",
    "                \n",
    "        df_features.set_value(i,df_features.shape[1] - 2,XVec, takeable=True)\n",
    "        df_features.set_value(i,df_features.shape[1] - 1,YVec, takeable=True)\n",
    "    df_features = df_features.fillna(method=\"pad\")\n",
    "    return df_features"
   ]
  },
  {
   "cell_type": "markdown",
   "metadata": {},
   "source": [
    "# Функция отображения объектов на плоскости по двум признакам"
   ]
  },
  {
   "cell_type": "code",
   "execution_count": 9,
   "metadata": {
    "collapsed": false
   },
   "outputs": [],
   "source": [
    "from matplotlib.colors import ListedColormap\n",
    "import matplotlib.pyplot as plt\n",
    "\n",
    "def plot_2d(df, feature_x, feature_y):\n",
    "    X = df[[feature_x, feature_y, \"Type\"]]\n",
    "\n",
    "    X = X.fillna(0)\n",
    "    #print(X)\n",
    "    colors = ['red', 'blue', 'lightgreen', 'gray', 'cyan', \"green\", \"black\", \"yellow\", \"pink\"]\n",
    "    plt.figure(figsize=(16,16))\n",
    "    plt.scatter(x=X[[feature_x]], y=X[[feature_y]], facecolors='none', edgecolors='black',\n",
    "                       alpha=1.0, linewidth=1, marker='o',\n",
    "                       s=55, label='test_set')\n",
    "\n",
    "    i = 0;\n",
    "    for t in [\"DU\", \"UD\", \"LR\", \"RL\", \"ZI\", \"TP\", \"ZO\", \"TC\", \"TCC\"]:\n",
    "        plt.scatter(x=X[X.Type == t][[feature_x]], y=X[X.Type == t][[feature_y]], facecolors=colors[i], edgecolors='black',\n",
    "                       alpha=1.0, linewidth=1, marker='o',\n",
    "                       s=55, label='test_set')\n",
    "        i += 1;\n",
    "    plt.show()"
   ]
  },
  {
   "cell_type": "code",
   "execution_count": null,
   "metadata": {
    "collapsed": true
   },
   "outputs": [],
   "source": [
    "from matplotlib.colors import ListedColormap\n",
    "import matplotlib.pyplot as plt\n",
    "\n",
    "def plot_compare_2d(df1, df2, feature1 ,feature2, ttype):\n",
    "    X1 = df1[[feature1, feature2, \"Type\"]]\n",
    "    X1 = X1.fillna(0)\n",
    "    \n",
    "    X2 = df2[[feature1, feature2, \"Type\"]]\n",
    "    X2 = X2.fillna(0)\n",
    "    \n",
    "    colors = ['red', 'blue', 'lightgreen', 'gray', 'cyan', \"green\", \"black\", \"yellow\", \"pink\"]\n",
    "    plt.figure(figsize=(16,16))\n",
    "    plt.scatter(x=X1[X1.Type == ttype][[feature1]], y=X1[X1.Type == ttype][[feature2]], facecolors='red', edgecolors='black',\n",
    "                       alpha=1.0, linewidth=1, marker='o',\n",
    "                       s=55, label='test_set')\n",
    "    \n",
    "    plt.scatter(x=X2[X2.Type == ttype][[feature1]], y=X2[X2.Type == ttype][[feature2]], facecolors='blue', edgecolors='black',\n",
    "                       alpha=1.0, linewidth=1, marker='o',\n",
    "                       s=55, label='test_set')\n",
    "    plt.xlabel(feature1)\n",
    "    plt.ylabel(feature2)\n",
    "    plt.title(\"Feature Type:\" + ttype)\n",
    "    plt.show()"
   ]
  },
  {
   "cell_type": "markdown",
   "metadata": {},
   "source": [
    "# Функция отображения объектов в пространстве по трем признакам\n"
   ]
  },
  {
   "cell_type": "code",
   "execution_count": null,
   "metadata": {
    "collapsed": true
   },
   "outputs": [],
   "source": [
    "from mpl_toolkits.mplot3d import Axes3D"
   ]
  },
  {
   "cell_type": "code",
   "execution_count": null,
   "metadata": {
    "collapsed": false
   },
   "outputs": [],
   "source": [
    "def plot_3d(df, feature_x, feature_y, feature_z):\n",
    "    X = df[[feature_x, feature_y, feature_z, \"Type\"]]\n",
    "\n",
    "    X = X.fillna(0)\n",
    "    #print(X)\n",
    "    colors = ['red', 'blue', 'lightgreen', 'gray', 'cyan', \"green\", \"black\", \"yellow\", \"pink\"]\n",
    "    fig = plt.figure(figsize=(16,16))\n",
    "    ax = fig.add_subplot(111, projection='3d')\n",
    "    \n",
    "    i = 0;\n",
    "    for t in [\"DU\", \"UD\", \"LR\", \"RL\", \"ZI\", \"TP\", \"ZO\", \"TC\", \"TCC\"]:\n",
    "        ax.scatter(xs=X[X.Type == t][[feature_x]], ys=X[X.Type == t][[feature_y]], zs=X[X.Type == t][[feature_z]],  c=colors[i], s=55)\n",
    "        i += 1;\n",
    "    plt.show()"
   ]
  },
  {
   "cell_type": "markdown",
   "metadata": {},
   "source": [
    "# Функция для получения датасета для одного конкретного типа движений"
   ]
  },
  {
   "cell_type": "code",
   "execution_count": null,
   "metadata": {
    "collapsed": true
   },
   "outputs": [],
   "source": [
    "def extract_data(data, target):\n",
    "    return data[data.Type==target]\n"
   ]
  },
  {
   "cell_type": "code",
   "execution_count": null,
   "metadata": {
    "collapsed": false
   },
   "outputs": [],
   "source": [
    "def combine_data(df_list):\n",
    "    df = df_list[0].copy()\n",
    "    for i in range(1,len(df_list)):\n",
    "        df = df.append(df_list[i],ignore_index=True)\n",
    "    return df\n",
    "        "
   ]
  },
  {
   "cell_type": "markdown",
   "metadata": {},
   "source": [
    "# Поиск аномалий"
   ]
  },
  {
   "cell_type": "code",
   "execution_count": null,
   "metadata": {
    "collapsed": false
   },
   "outputs": [
    {
     "name": "stderr",
     "output_type": "stream",
     "text": [
      "C:\\Anaconda3\\lib\\site-packages\\ipykernel\\__main__.py:5: RuntimeWarning: invalid value encountered in double_scalars\n"
     ]
    }
   ],
   "source": [
    "df = create_features_vec_num(data_mine)\n",
    "X_mine30 = extract_data(df, \"DU\")\n",
    "df = create_features_vec_num(data_mine2)\n",
    "X_mine100 = extract_data(df, \"DU\")\n",
    "df = create_features_vec_num(data_mine3)\n",
    "X_mine_scrolls = extract_data(df, \"DU\")"
   ]
  },
  {
   "cell_type": "code",
   "execution_count": null,
   "metadata": {
    "collapsed": true
   },
   "outputs": [],
   "source": [
    "df = create_features_vec_num(data_mine4)\n",
    "X_mine4 = extract_data(df, \"DU\")"
   ]
  },
  {
   "cell_type": "code",
   "execution_count": 70,
   "metadata": {
    "collapsed": false
   },
   "outputs": [
    {
     "name": "stderr",
     "output_type": "stream",
     "text": [
      "C:\\Anaconda3\\lib\\site-packages\\ipykernel\\__main__.py:5: RuntimeWarning: divide by zero encountered in double_scalars\n",
      "C:\\Anaconda3\\lib\\site-packages\\ipykernel\\__main__.py:5: RuntimeWarning: invalid value encountered in double_scalars\n"
     ]
    }
   ],
   "source": [
    "df_mp = create_features_vec_num(data_mp)\n",
    "X_mp = extract_data(df_mp, \"DU\")\n",
    "df_ae = create_features_vec_num(data_ae)\n",
    "X_ae = extract_data(df_ae, \"DU\")\n",
    "df_dp = create_features_vec_num(data_dp)\n",
    "X_dp = extract_data(df_dp, \"DU\")\n",
    "df_ka = create_features_vec_num(data_ka)\n",
    "X_ka = extract_data(df_ka, \"DU\")\n",
    "df_lh = create_features_vec_num(data_lh)\n",
    "X_lh = extract_data(df_lh, \"DU\")"
   ]
  },
  {
   "cell_type": "code",
   "execution_count": 62,
   "metadata": {
    "collapsed": false
   },
   "outputs": [],
   "source": [
    "df_list = [X_mp, X_ae, X_dp, X_ka, X_lh]\n",
    "X_test = combine_data(df_list)"
   ]
  },
  {
   "cell_type": "code",
   "execution_count": 63,
   "metadata": {
    "collapsed": true
   },
   "outputs": [],
   "source": [
    "from sklearn.covariance import EllipticEnvelope\n",
    "from sklearn.ensemble import IsolationForest"
   ]
  },
  {
   "cell_type": "code",
   "execution_count": 101,
   "metadata": {
    "collapsed": false
   },
   "outputs": [
    {
     "name": "stdout",
     "output_type": "stream",
     "text": [
      "50 50\n"
     ]
    }
   ],
   "source": [
    "isolation_forest = IsolationForest()\n",
    "X_train = X_mine100.iloc[:,[2,3,4,5,6,7]]\n",
    "isolation_forest.fit(X_train.as_matrix())\n",
    "\n",
    "X_t = X_test.iloc[:,[2,3,4,5,6,7]]\n",
    "outliers_count = 0\n",
    "for outlier in X_t.as_matrix():\n",
    "    outlier = outlier.reshape(1, -1)\n",
    "    if isolation_forest.predict(outlier) == -1:\n",
    "        outliers_count+=1\n",
    "print(outliers_count, len(X_t))"
   ]
  },
  {
   "cell_type": "code",
   "execution_count": null,
   "metadata": {
    "collapsed": true
   },
   "outputs": [],
   "source": []
  },
  {
   "cell_type": "code",
   "execution_count": null,
   "metadata": {
    "collapsed": true
   },
   "outputs": [],
   "source": []
  }
 ],
 "metadata": {
  "celltoolbar": "Raw Cell Format",
  "kernelspec": {
   "display_name": "Python 3",
   "language": "python",
   "name": "python3"
  },
  "language_info": {
   "codemirror_mode": {
    "name": "ipython",
    "version": 3
   },
   "file_extension": ".py",
   "mimetype": "text/x-python",
   "name": "python",
   "nbconvert_exporter": "python",
   "pygments_lexer": "ipython3",
   "version": "3.6.0"
  }
 },
 "nbformat": 4,
 "nbformat_minor": 2
}
